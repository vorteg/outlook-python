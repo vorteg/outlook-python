{
 "cells": [
  {
   "cell_type": "code",
   "execution_count": null,
   "metadata": {},
   "outputs": [],
   "source": [
    "%pip install pandas openpyxl"
   ]
  },
  {
   "cell_type": "code",
   "execution_count": 5,
   "metadata": {},
   "outputs": [],
   "source": [
    "import pandas as pd\n",
    "from typing import List\n",
    "from pathlib import Path\n",
    "from template import build_html\n",
    "from emails import send_email"
   ]
  },
  {
   "cell_type": "code",
   "execution_count": 3,
   "metadata": {},
   "outputs": [
    {
     "name": "stdout",
     "output_type": "stream",
     "text": [
      "/home/qupi/Documents\n"
     ]
    }
   ],
   "source": [
    "data_folder = Path.home() / \"Documents\"\n",
    "pdf_folder = data_folder / \"folder name\""
   ]
  },
  {
   "cell_type": "code",
   "execution_count": null,
   "metadata": {},
   "outputs": [],
   "source": [
    "#Read excel files\n",
    "customers_file = data_folder / \"TEST.xlsx\"\n",
    "sheet_name = \"Sheet1\"\n",
    "sheet_other = \"optional\"\n",
    "data_file = data_folder / \"TEST.xlsx\"\n",
    "\n",
    "df_customers = pd.read_excel(customers_file, sheet_name=sheet_name)\n",
    "df_data = pd.read_excel(data_file, sheet_name=sheet_name)\n"
   ]
  },
  {
   "cell_type": "code",
   "execution_count": null,
   "metadata": {},
   "outputs": [],
   "source": [
    "#Query function\n",
    "def query(col_name:str, search:str)-> tuple:\n",
    "    df_tmp = df_data[df_data[col_name] == search]\n",
    "    #exclude columns\n",
    "    df_tmp = df_tmp[[\"Enterprise #\", \"Customer Name\",\"Customer #\",\"Invoice #\", \"Inv. Date\", \"Inv. Amount\",\"Inv. Balance\"]]\n",
    "    pdfs_names = df_tmp[\"Invoice #\"].tolist()\n",
    "    return df_tmp.to_html(), pdfs_names"
   ]
  },
  {
   "cell_type": "code",
   "execution_count": null,
   "metadata": {},
   "outputs": [],
   "source": [
    "#building attachments paths\n",
    "def build_attachments(pdfs:List[str])->List[str]:\n",
    "    return map(lambda x: pdf_folder / x , pdfs )"
   ]
  },
  {
   "cell_type": "code",
   "execution_count": null,
   "metadata": {},
   "outputs": [],
   "source": [
    "# Iterate Customers & send emails\n",
    "for index, row in df_customers.iterrows():\n",
    "    table, pdfs = query(col_name='Customer #',search=row['Customer #'])\n",
    "    customer_email = row['email']\n",
    "    body = build_html(table, row['Customer Name'])\n",
    "    path_atachments = build_attachments(pdfs)\n",
    "    send_email(customer_email,body, path_atachments)"
   ]
  }
 ],
 "metadata": {
  "kernelspec": {
   "display_name": "Python 3.11.0rc2 64-bit ('3.11.0rc2')",
   "language": "python",
   "name": "python3"
  },
  "language_info": {
   "codemirror_mode": {
    "name": "ipython",
    "version": 3
   },
   "file_extension": ".py",
   "mimetype": "text/x-python",
   "name": "python",
   "nbconvert_exporter": "python",
   "pygments_lexer": "ipython3",
   "version": "3.11.0"
  },
  "orig_nbformat": 4,
  "vscode": {
   "interpreter": {
    "hash": "7fbd0b6a9d6daeba7596c7df02bd10cc7a867c9eb762a46a53b3ef6d6bfd9f8a"
   }
  }
 },
 "nbformat": 4,
 "nbformat_minor": 2
}
