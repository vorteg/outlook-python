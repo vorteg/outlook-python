{
 "cells": [
  {
   "cell_type": "code",
   "execution_count": 1,
   "metadata": {},
   "outputs": [
    {
     "name": "stdout",
     "output_type": "stream",
     "text": [
      "Requirement already satisfied: pandas in c:\\users\\000752781\\documents\\python\\jupyter\\lib\\site-packages (1.4.3)\n",
      "Collecting openpyxl\n",
      "  Downloading openpyxl-3.0.10-py2.py3-none-any.whl (242 kB)\n",
      "     -------------------------------------- 242.1/242.1 kB 1.9 MB/s eta 0:00:00\n",
      "Requirement already satisfied: python-dateutil>=2.8.1 in c:\\users\\000752781\\documents\\python\\jupyter\\lib\\site-packages (from pandas) (2.8.2)\n",
      "Requirement already satisfied: numpy>=1.21.0 in c:\\users\\000752781\\documents\\python\\jupyter\\lib\\site-packages (from pandas) (1.23.0)\n",
      "Requirement already satisfied: pytz>=2020.1 in c:\\users\\000752781\\documents\\python\\jupyter\\lib\\site-packages (from pandas) (2022.1)\n",
      "Collecting et-xmlfile\n",
      "  Downloading et_xmlfile-1.1.0-py3-none-any.whl (4.7 kB)\n",
      "Requirement already satisfied: six>=1.5 in c:\\users\\000752781\\documents\\python\\jupyter\\lib\\site-packages (from python-dateutil>=2.8.1->pandas) (1.16.0)\n",
      "Installing collected packages: et-xmlfile, openpyxl\n",
      "Successfully installed et-xmlfile-1.1.0 openpyxl-3.0.10\n",
      "\n",
      "[notice] A new release of pip available: 22.1.2 -> 22.3.1\n",
      "[notice] To update, run: python.exe -m pip install --upgrade pip\n",
      "Note: you may need to restart the kernel to use updated packages.\n"
     ]
    }
   ],
   "source": [
    "#RUN ONLY THE FIRST TIME\n",
    "%pip install pandas openpyxl"
   ]
  },
  {
   "cell_type": "code",
   "execution_count": 9,
   "metadata": {},
   "outputs": [],
   "source": [
    "import pandas as pd\n",
    "from typing import List\n",
    "from pathlib import Path, PureWindowsPath\n",
    "from template import build_html\n",
    "from emails import send_email"
   ]
  },
  {
   "cell_type": "code",
   "execution_count": 11,
   "metadata": {},
   "outputs": [],
   "source": [
    "data_folder = Path.home()/\"Desktop\"\n",
    "data_folder = data_folder/\"autopony\"\n",
    "data_folder = data_folder/\"test2022\"\n",
    "pdf_folder = Path.home()/\"Desktop\"\n",
    "pdf_folder = pdf_folder/\"LEGACY FILES\"\n",
    "EXEL_FILE_DATA = 'TEST.xlsx'\n",
    "EXEL_FILE_EMAILS = 'TEST.xlsx'\n",
    "sheet_data = \"DATA\"\n",
    "sheet_emails = \"EMAILS\"\n",
    "custome_subject = \"IBM - \""
   ]
  },
  {
   "cell_type": "code",
   "execution_count": 12,
   "metadata": {},
   "outputs": [],
   "source": [
    "#Read excel files\n",
    "customers_file = data_folder/EXEL_FILE_EMAILS\n",
    "#customers_file = PureWindowsPath(customers_file)\n",
    "\n",
    "data_file = f'{data_folder}\\{EXEL_FILE_DATA}'\n",
    "\n",
    "df_customers = pd.read_excel(customers_file, sheet_name=sheet_emails)\n",
    "df_data = pd.read_excel(customers_file, sheet_name=sheet_data)\n"
   ]
  },
  {
   "cell_type": "code",
   "execution_count": 13,
   "metadata": {},
   "outputs": [],
   "source": [
    "#Query function\n",
    "def query(col_name:str, search:str)-> tuple:\n",
    "    df_tmp = df_data[df_data[col_name] == search]\n",
    "    #exclude columns\n",
    "    df_tmp = df_tmp[[\"Enterprise #\", \"Customer Name\",\"Customer #\",\"Invoice #\", \"Inv. Date\", \"Inv. Amount\",\"Inv. Balance\"]]\n",
    "    pdfs_names = df_tmp[\"Invoice #\"].tolist()\n",
    "    return df_tmp.to_html(), pdfs_names"
   ]
  },
  {
   "cell_type": "code",
   "execution_count": 14,
   "metadata": {},
   "outputs": [],
   "source": [
    "#building attachments paths\n",
    "def prepare_path(file:str):\n",
    "    tmp_f = pdf_folder/f'{str(file)}.pdf'\n",
    "    return str(tmp_f.absolute())\n",
    "\n",
    "def build_attachments(pdfs:List[str])->List[str]:\n",
    "    tmp_paths = list( map(prepare_path , pdfs )) \n",
    "    return tmp_paths"
   ]
  },
  {
   "cell_type": "code",
   "execution_count": 15,
   "metadata": {},
   "outputs": [],
   "source": [
    "# Iterate Customers & send emails\n",
    "for index, row in df_customers.iterrows():\n",
    "    table, pdfs = query(col_name='Customer #',search=row['Customer #'])\n",
    "    customer_email = row['email']\n",
    "    customer_name = row['Customer Name']\n",
    "    custome_subject = F'{custome_subject} {customer_name}'\n",
    "    body = build_html(table, row['Customer Name'])\n",
    "    path_atachments = build_attachments(pdfs)\n",
    "    send_email(customer_email,body, path_atachments, custome_subject)"
   ]
  }
 ],
 "metadata": {
  "kernelspec": {
   "display_name": "jupyter",
   "language": "python",
   "name": "python3"
  },
  "language_info": {
   "codemirror_mode": {
    "name": "ipython",
    "version": 3
   },
   "file_extension": ".py",
   "mimetype": "text/x-python",
   "name": "python",
   "nbconvert_exporter": "python",
   "pygments_lexer": "ipython3",
   "version": "3.10.5"
  },
  "orig_nbformat": 4,
  "vscode": {
   "interpreter": {
    "hash": "8795c4ae7eccfdf5dfade422a8a11290b17d339fccc9083fe95adb8ce69fc4e0"
   }
  }
 },
 "nbformat": 4,
 "nbformat_minor": 2
}
